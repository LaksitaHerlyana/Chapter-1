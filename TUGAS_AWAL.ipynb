{
  "nbformat": 4,
  "nbformat_minor": 0,
  "metadata": {
    "colab": {
      "provenance": [],
      "authorship_tag": "ABX9TyNqWuipMbQa4LUgrMFPiY4y",
      "include_colab_link": true
    },
    "kernelspec": {
      "name": "python3",
      "display_name": "Python 3"
    },
    "language_info": {
      "name": "python"
    }
  },
  "cells": [
    {
      "cell_type": "markdown",
      "metadata": {
        "id": "view-in-github",
        "colab_type": "text"
      },
      "source": [
        "<a href=\"https://colab.research.google.com/github/LaksitaHerlyana/Chapter-1/blob/main/TUGAS_AWAL.ipynb\" target=\"_parent\"><img src=\"https://colab.research.google.com/assets/colab-badge.svg\" alt=\"Open In Colab\"/></a>"
      ]
    },
    {
      "cell_type": "code",
      "execution_count": 3,
      "metadata": {
        "colab": {
          "base_uri": "https://localhost:8080/",
          "height": 53
        },
        "id": "RgwuUmxuOo4e",
        "outputId": "b1f51f5c-1fb8-4715-c63a-b15f515d92b8"
      },
      "outputs": [
        {
          "output_type": "stream",
          "name": "stdout",
          "text": [
            "<class 'str'>\n"
          ]
        },
        {
          "output_type": "execute_result",
          "data": {
            "text/plain": [
              "'Sitta'"
            ],
            "application/vnd.google.colaboratory.intrinsic+json": {
              "type": "string"
            }
          },
          "metadata": {},
          "execution_count": 3
        }
      ],
      "source": [
        "nama=\"Sitta\"\n",
        "print(type(nama))\n",
        "nama"
      ]
    },
    {
      "cell_type": "code",
      "source": [
        "angka=[1,2,3,4,5]\n",
        "print(type(angka))\n",
        "angka"
      ],
      "metadata": {
        "colab": {
          "base_uri": "https://localhost:8080/"
        },
        "id": "BMdipZ-OP5ss",
        "outputId": "76548cec-3215-4aba-d1e4-6a9ba646d0b4"
      },
      "execution_count": 5,
      "outputs": [
        {
          "output_type": "stream",
          "name": "stdout",
          "text": [
            "<class 'list'>\n"
          ]
        },
        {
          "output_type": "execute_result",
          "data": {
            "text/plain": [
              "[1, 2, 3, 4, 5]"
            ]
          },
          "metadata": {},
          "execution_count": 5
        }
      ]
    },
    {
      "cell_type": "code",
      "source": [
        "angka=0.5\n",
        "print(type(angka))\n",
        "angka"
      ],
      "metadata": {
        "colab": {
          "base_uri": "https://localhost:8080/"
        },
        "id": "IDhZDW0hRO-Y",
        "outputId": "1889c55f-802b-40dc-8d90-318395558757"
      },
      "execution_count": 7,
      "outputs": [
        {
          "output_type": "stream",
          "name": "stdout",
          "text": [
            "<class 'float'>\n"
          ]
        },
        {
          "output_type": "execute_result",
          "data": {
            "text/plain": [
              "0.5"
            ]
          },
          "metadata": {},
          "execution_count": 7
        }
      ]
    },
    {
      "cell_type": "code",
      "source": [
        "angka=3\n",
        "print(type(angka))\n",
        "angka"
      ],
      "metadata": {
        "colab": {
          "base_uri": "https://localhost:8080/"
        },
        "id": "UOlri9sOSBrW",
        "outputId": "9305b3e6-683a-4c7c-cbe8-8635ff71487a"
      },
      "execution_count": 8,
      "outputs": [
        {
          "output_type": "stream",
          "name": "stdout",
          "text": [
            "<class 'int'>\n"
          ]
        },
        {
          "output_type": "execute_result",
          "data": {
            "text/plain": [
              "3"
            ]
          },
          "metadata": {},
          "execution_count": 8
        }
      ]
    },
    {
      "cell_type": "code",
      "source": [
        "nama=[\"beras,minyak,telur\"]\n",
        "print(nama)"
      ],
      "metadata": {
        "colab": {
          "base_uri": "https://localhost:8080/"
        },
        "id": "4HzO9cl1SUhr",
        "outputId": "e78508a2-969a-4856-ed86-1fb0100b163c"
      },
      "execution_count": 13,
      "outputs": [
        {
          "output_type": "stream",
          "name": "stdout",
          "text": [
            "['beras,minyak,telur']\n"
          ]
        }
      ]
    },
    {
      "cell_type": "code",
      "source": [
        "daftar_belanjaan=[\"beras\",\"minyak\",\"telur\",\"gula\",\"kopi\"]\n",
        "daftar_belanjaan.append(\"rokok\")\n",
        "print(daftar_belanjaan)"
      ],
      "metadata": {
        "colab": {
          "base_uri": "https://localhost:8080/"
        },
        "id": "3m-7WmE8TqmB",
        "outputId": "c5d06449-80f4-4718-ed54-45acdc2a55e6"
      },
      "execution_count": 15,
      "outputs": [
        {
          "output_type": "stream",
          "name": "stdout",
          "text": [
            "['beras', 'minyak', 'telur', 'gula', 'kopi', 'rokok']\n"
          ]
        }
      ]
    },
    {
      "cell_type": "code",
      "source": [
        "# a. Membuat dictionary harga belanjaan\n",
        "harga_belanjaan = {\n",
        "    \"beras\": 12000,\n",
        "    \"minyak\": 17000,\n",
        "    \"telur\": 24000,\n",
        "    \"gula\": 15000,\n",
        "    \"kopi\": 20000\n",
        "}\n",
        "\n",
        "# b. Menghitung total harga semua belanjaan\n",
        "total_harga = sum(harga_belanjaan.values())\n",
        "\n",
        "# C. Menampilkan total harga\n",
        "print(f\"Total harga belanjaan: {total_harga}\")"
      ],
      "metadata": {
        "colab": {
          "base_uri": "https://localhost:8080/"
        },
        "id": "c810cx-mULU6",
        "outputId": "f4fa7666-7a32-4b61-e007-3bf4ddca3f46"
      },
      "execution_count": 16,
      "outputs": [
        {
          "output_type": "stream",
          "name": "stdout",
          "text": [
            "Total harga belanjaan: 88000\n"
          ]
        }
      ]
    },
    {
      "cell_type": "code",
      "source": [
        "def hitung_persegi_panjang(panjang, lebar):\n",
        "    \"\"\"\n",
        "    Fungsi untuk menghitung luas dan keliling persegi panjang.\n",
        "\n",
        "    Args:\n",
        "        panjang: Panjang persegi panjang.\n",
        "        lebar: Lebar persegi panjang.\n",
        "\n",
        "    Returns:\n",
        "        Tuple berisi luas dan keliling persegi panjang.\n",
        "    \"\"\"\n",
        "    luas = panjang * lebar\n",
        "    keliling = 2 * (panjang + lebar)\n",
        "    return luas, keliling\n",
        "\n",
        "\n",
        "# Contoh penggunaan fungsi\n",
        "panjang = 10\n",
        "lebar = 5\n",
        "luas_persegi, keliling_persegi = hitung_persegi_panjang(panjang, lebar)\n",
        "\n",
        "print(f\"Luas persegi panjang dengan panjang {panjang} dan lebar {lebar} adalah: {luas_persegi}\")\n",
        "print(f\"Keliling persegi panjang dengan panjang {panjang} dan lebar {lebar} adalah: {keliling_persegi}\")"
      ],
      "metadata": {
        "colab": {
          "base_uri": "https://localhost:8080/"
        },
        "id": "5-IT5P3MVf4q",
        "outputId": "1677369b-33cd-4002-f77f-bf57ee201b9f"
      },
      "execution_count": 18,
      "outputs": [
        {
          "output_type": "stream",
          "name": "stdout",
          "text": [
            "Luas persegi panjang dengan panjang 10 dan lebar 5 adalah: 50\n",
            "Keliling persegi panjang dengan panjang 10 dan lebar 5 adalah: 30\n"
          ]
        }
      ]
    },
    {
      "cell_type": "code",
      "source": [
        "# Minta pengguna memasukkan usia\n",
        "usia = int(input(\"Masukkan usia Anda: \"))\n",
        "\n",
        "# Percabangan untuk menentukan kategori usia\n",
        "if usia <= 13:\n",
        "    print(\"Anak\")\n",
        "elif 14 <= usia <= 24:\n",
        "    print(\"Remaja\")\n",
        "elif 25 <= usia <= 49:\n",
        "    print(\"Dewasa\")\n",
        "else:\n",
        "    print(\"Lansia\")"
      ],
      "metadata": {
        "id": "wdGgaGO7Vjyn"
      },
      "execution_count": null,
      "outputs": []
    }
  ]
}